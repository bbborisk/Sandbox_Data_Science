{
 "cells": [
  {
   "cell_type": "code",
   "execution_count": 1,
   "id": "80bab550-96f6-4f7c-a43f-c3079f4de92b",
   "metadata": {},
   "outputs": [],
   "source": [
    "#simple code for predicting linear regression from scratch\n",
    "#This code takes just one row as variable and predicts linear regression as y = A0 + A1x "
   ]
  },
  {
   "cell_type": "code",
   "execution_count": 9,
   "id": "d4bbefe2-6ca0-47ec-8ea2-f96f3b19e1fa",
   "metadata": {},
   "outputs": [],
   "source": [
    "#first, let's define a function for calculating mean value of the array and variance\n",
    "\n",
    "def mean(values):\n",
    "    return (sum(values)/float(len(values)))\n",
    "\n",
    "def variance(values):\n",
    "    return sum((x - mean(values))**2 for x in values)"
   ]
  },
  {
   "cell_type": "code",
   "execution_count": 10,
   "id": "1f5e13a0-85e7-4a13-8427-17f69dfa6fa9",
   "metadata": {},
   "outputs": [
    {
     "data": {
      "text/plain": [
       "10.0"
      ]
     },
     "execution_count": 10,
     "metadata": {},
     "output_type": "execute_result"
    }
   ],
   "source": [
    "variance([1,2,3,4,5])"
   ]
  },
  {
   "cell_type": "code",
   "execution_count": 19,
   "id": "b4e7772a-db6f-4607-bd53-c3f0db46885d",
   "metadata": {},
   "outputs": [],
   "source": [
    "#I will also use covariance, so here is a function to calculate covariance\n",
    "\n",
    "def covar(x,y):\n",
    "    covar = 0.0\n",
    "    mx = mean(x)\n",
    "    my = mean(y)\n",
    "    for i in range(len(x)):\n",
    "        covar = covar + (x[i]-mx)*(y[i]-my)\n",
    "    return covar"
   ]
  },
  {
   "cell_type": "code",
   "execution_count": 20,
   "id": "f8384273-5941-4bc4-80f4-81669c536df7",
   "metadata": {},
   "outputs": [
    {
     "data": {
      "text/plain": [
       "2.0"
      ]
     },
     "execution_count": 20,
     "metadata": {},
     "output_type": "execute_result"
    }
   ],
   "source": [
    "covar([1,2,3],[4,5,6])"
   ]
  },
  {
   "cell_type": "code",
   "execution_count": 21,
   "id": "c5edb4d2-8537-47ee-b782-6a4e8d0e0816",
   "metadata": {},
   "outputs": [],
   "source": [
    "#Now I go and calculate the coefficients (A0 and A1), which I will later use for prediction algorithm"
   ]
  },
  {
   "cell_type": "code",
   "execution_count": 52,
   "id": "42e31554-27f9-4410-98d1-c85ced29957c",
   "metadata": {},
   "outputs": [],
   "source": [
    "def A1(x,y):\n",
    "    return covar(x,y)/variance(x)\n",
    "def A0(x,y):\n",
    "    return mean(y) - mean(x)*A1(x,y)\n",
    "#maybe i could have put these two function into one that returns a tupple, but for now this is OK with me)"
   ]
  },
  {
   "cell_type": "code",
   "execution_count": 53,
   "id": "3a829ca7-4706-436b-92c5-4207424fc579",
   "metadata": {},
   "outputs": [],
   "source": [
    "#Now for the predictions: I will define a function for fitting the trained values into an array.\n",
    "#Training will be implemented in the function at this point, maybe I will look into separating those two later\n",
    "\n",
    "def fit(x_train, y_train, x):\n",
    "    y = []\n",
    "    k = A1(x_train, y_train)\n",
    "    n = A0(x_train, y_train)\n",
    "    for i in x:\n",
    "        y.append(k*i + n)\n",
    "    return y\n",
    "    "
   ]
  },
  {
   "cell_type": "code",
   "execution_count": 91,
   "id": "998938e4-9af0-4b89-b634-01515a3b4ed5",
   "metadata": {},
   "outputs": [
    {
     "data": {
      "text/plain": [
       "3.0"
      ]
     },
     "execution_count": 91,
     "metadata": {},
     "output_type": "execute_result"
    }
   ],
   "source": [
    "fit([1,2,3],[2,4,6],[7,8,9])\n"
   ]
  },
  {
   "cell_type": "code",
   "execution_count": 105,
   "id": "fceab5b5-85df-4be7-92c5-f48ddb6607bd",
   "metadata": {},
   "outputs": [
    {
     "data": {
      "text/plain": [
       "3.0"
      ]
     },
     "execution_count": 105,
     "metadata": {},
     "output_type": "execute_result"
    }
   ],
   "source": [
    "#Now for some metrics: Ill write again simple functions for calculating RMSE \n",
    "def RMSE(actual, predicted):\n",
    "    err = 0.0\n",
    "    from math import sqrt\n",
    "    for i in range(len(actual)):\n",
    "        err = err + (actual[i] - predicted[i])**2\n",
    "        mean_error = err/(float(len(actual)))\n",
    "    return sqrt(mean_error)\n",
    "\n",
    "RMSE([1,2,3],[4,5,6])"
   ]
  },
  {
   "cell_type": "code",
   "execution_count": 57,
   "id": "b2466e35-4e0d-4844-a5d3-28e0ad3b1bb9",
   "metadata": {},
   "outputs": [],
   "source": [
    "#Lets test it!"
   ]
  },
  {
   "cell_type": "code",
   "execution_count": 107,
   "id": "cde914f5-b59c-4fdd-8812-ebc6b5ceb8a8",
   "metadata": {},
   "outputs": [],
   "source": [
    "import pandas as pd\n",
    "import matplotlib.pyplot as plt\n",
    "import seaborn as sns"
   ]
  },
  {
   "cell_type": "code",
   "execution_count": 108,
   "id": "1c0ff19c-e128-4a45-8cae-b483e7e2bfbc",
   "metadata": {},
   "outputs": [],
   "source": [
    "data = pd.read_csv('/home/bbborisk/Documents/MyProjects/data_science_course_1/auto-mpg.csv')"
   ]
  },
  {
   "cell_type": "code",
   "execution_count": 109,
   "id": "8d168342-1f74-4b06-8412-7929719eef3a",
   "metadata": {},
   "outputs": [
    {
     "data": {
      "text/html": [
       "<div>\n",
       "<style scoped>\n",
       "    .dataframe tbody tr th:only-of-type {\n",
       "        vertical-align: middle;\n",
       "    }\n",
       "\n",
       "    .dataframe tbody tr th {\n",
       "        vertical-align: top;\n",
       "    }\n",
       "\n",
       "    .dataframe thead th {\n",
       "        text-align: right;\n",
       "    }\n",
       "</style>\n",
       "<table border=\"1\" class=\"dataframe\">\n",
       "  <thead>\n",
       "    <tr style=\"text-align: right;\">\n",
       "      <th></th>\n",
       "      <th>mpg</th>\n",
       "      <th>cylinders</th>\n",
       "      <th>displacement</th>\n",
       "      <th>horsepower</th>\n",
       "      <th>weight</th>\n",
       "      <th>acceleration</th>\n",
       "      <th>model year</th>\n",
       "      <th>origin</th>\n",
       "      <th>car name</th>\n",
       "    </tr>\n",
       "  </thead>\n",
       "  <tbody>\n",
       "    <tr>\n",
       "      <th>0</th>\n",
       "      <td>18.0</td>\n",
       "      <td>8</td>\n",
       "      <td>307.0</td>\n",
       "      <td>130</td>\n",
       "      <td>3504</td>\n",
       "      <td>12.0</td>\n",
       "      <td>70</td>\n",
       "      <td>1</td>\n",
       "      <td>chevrolet chevelle malibu</td>\n",
       "    </tr>\n",
       "    <tr>\n",
       "      <th>1</th>\n",
       "      <td>15.0</td>\n",
       "      <td>8</td>\n",
       "      <td>350.0</td>\n",
       "      <td>165</td>\n",
       "      <td>3693</td>\n",
       "      <td>11.5</td>\n",
       "      <td>70</td>\n",
       "      <td>1</td>\n",
       "      <td>buick skylark 320</td>\n",
       "    </tr>\n",
       "    <tr>\n",
       "      <th>2</th>\n",
       "      <td>18.0</td>\n",
       "      <td>8</td>\n",
       "      <td>318.0</td>\n",
       "      <td>150</td>\n",
       "      <td>3436</td>\n",
       "      <td>11.0</td>\n",
       "      <td>70</td>\n",
       "      <td>1</td>\n",
       "      <td>plymouth satellite</td>\n",
       "    </tr>\n",
       "    <tr>\n",
       "      <th>3</th>\n",
       "      <td>16.0</td>\n",
       "      <td>8</td>\n",
       "      <td>304.0</td>\n",
       "      <td>150</td>\n",
       "      <td>3433</td>\n",
       "      <td>12.0</td>\n",
       "      <td>70</td>\n",
       "      <td>1</td>\n",
       "      <td>amc rebel sst</td>\n",
       "    </tr>\n",
       "    <tr>\n",
       "      <th>4</th>\n",
       "      <td>17.0</td>\n",
       "      <td>8</td>\n",
       "      <td>302.0</td>\n",
       "      <td>140</td>\n",
       "      <td>3449</td>\n",
       "      <td>10.5</td>\n",
       "      <td>70</td>\n",
       "      <td>1</td>\n",
       "      <td>ford torino</td>\n",
       "    </tr>\n",
       "  </tbody>\n",
       "</table>\n",
       "</div>"
      ],
      "text/plain": [
       "    mpg  cylinders  displacement horsepower  weight  acceleration  model year  \\\n",
       "0  18.0          8         307.0        130    3504          12.0          70   \n",
       "1  15.0          8         350.0        165    3693          11.5          70   \n",
       "2  18.0          8         318.0        150    3436          11.0          70   \n",
       "3  16.0          8         304.0        150    3433          12.0          70   \n",
       "4  17.0          8         302.0        140    3449          10.5          70   \n",
       "\n",
       "   origin                   car name  \n",
       "0       1  chevrolet chevelle malibu  \n",
       "1       1          buick skylark 320  \n",
       "2       1         plymouth satellite  \n",
       "3       1              amc rebel sst  \n",
       "4       1                ford torino  "
      ]
     },
     "execution_count": 109,
     "metadata": {},
     "output_type": "execute_result"
    }
   ],
   "source": [
    "data.head()"
   ]
  },
  {
   "cell_type": "code",
   "execution_count": 110,
   "id": "2cc750a8-01cb-488d-b7ae-6a9cfecc8a70",
   "metadata": {},
   "outputs": [
    {
     "data": {
      "text/plain": [
       "<AxesSubplot:>"
      ]
     },
     "execution_count": 110,
     "metadata": {},
     "output_type": "execute_result"
    },
    {
     "data": {
      "image/png": "[encoded data removed]",
      "text/plain": [
       "<Figure size 432x288 with 2 Axes>"
      ]
     },
     "metadata": {
      "needs_background": "light"
     },
     "output_type": "display_data"
    }
   ],
   "source": [
    "sns.heatmap(data.corr(), annot = True)"
   ]
  },
  {
   "cell_type": "code",
   "execution_count": 111,
   "id": "b31e62ba-79f4-4ee8-a010-ca9745dd3f97",
   "metadata": {},
   "outputs": [],
   "source": [
    "x = data['weight']\n",
    "y = data['mpg']"
   ]
  },
  {
   "cell_type": "code",
   "execution_count": 130,
   "id": "b5af7002-8723-4183-9c73-8b399ff49d71",
   "metadata": {},
   "outputs": [
    {
     "data": {
      "text/plain": [
       "array([34.2, 34.5, 31.8, 37.3, 28.4, 28.8, 26.8, 33.5, 41.5, 38.1, 32.1,\n",
       "       37.2, 28. , 26.4, 24.3, 19.1, 34.3, 29.8, 31.3, 37. , 32.2, 46.6,\n",
       "       27.9, 40.8, 44.3, 43.4, 36.4, 30. , 44.6, 40.9, 33.8, 29.8, 32.7,\n",
       "       23.7, 35. , 23.6, 32.4, 27.2, 26.6, 25.8, 23.5, 30. , 39.1, 39. ,\n",
       "       35.1, 32.3, 37. , 37.7, 34.1, 34.7, 34.4, 29.9, 33. , 34.5, 33.7,\n",
       "       32.4, 32.9, 31.6, 28.1, 30.7, 25.4, 24.2, 22.4, 26.6, 20.2, 17.6,\n",
       "       28. , 27. , 34. , 31. , 29. , 27. , 24. , 23. , 36. , 37. , 31. ,\n",
       "       38. , 36. , 36. , 36. , 34. , 38. , 32. , 38. , 25. , 38. , 26. ,\n",
       "       22. , 32. , 36. , 27. , 27. , 44. , 32. , 28. , 31. ])"
      ]
     },
     "execution_count": 130,
     "metadata": {},
     "output_type": "execute_result"
    }
   ],
   "source": [
    "import numpy as np\n",
    "np.array(y_test)"
   ]
  },
  {
   "cell_type": "code",
   "execution_count": 113,
   "id": "0daeb9d6-341c-42a0-8153-54415435885d",
   "metadata": {},
   "outputs": [],
   "source": [
    "x_train = x[:300]\n",
    "x_test = x[301:]\n",
    "y_train = y[:300]\n",
    "y_test = y[301:] "
   ]
  },
  {
   "cell_type": "code",
   "execution_count": 131,
   "id": "35836c09-20e3-4e85-b4a1-2ccd0d40c549",
   "metadata": {},
   "outputs": [],
   "source": [
    "pred = fit(x_train,y_train,x_test)\n"
   ]
  },
  {
   "cell_type": "code",
   "execution_count": 133,
   "id": "4f4107b1-20f2-4a30-9532-9284571e998f",
   "metadata": {},
   "outputs": [
    {
     "data": {
      "text/plain": [
       "8.191582260108518"
      ]
     },
     "execution_count": 133,
     "metadata": {},
     "output_type": "execute_result"
    }
   ],
   "source": [
    "RMSE(np.array(y_test), pred)\n",
    "#there is certainly a better way to do this than turning y_test into array, but for now this will do :)"
   ]
  },
  {
   "cell_type": "code",
   "execution_count": null,
   "id": "fc97c6db-3ae0-43a3-9af5-15a2b0d20a2a",
   "metadata": {},
   "outputs": [],
   "source": []
  }
 ],
 "metadata": {
  "kernelspec": {
   "display_name": "Python 3 (ipykernel)",
   "language": "python",
   "name": "python3"
  },
  "language_info": {
   "codemirror_mode": {
    "name": "ipython",
    "version": 3
   },
   "file_extension": ".py",
   "mimetype": "text/x-python",
   "name": "python",
   "nbconvert_exporter": "python",
   "pygments_lexer": "ipython3",
   "version": "3.8.11"
  }
 },
 "nbformat": 4,
 "nbformat_minor": 5
}
